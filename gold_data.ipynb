{
 "cells": [
  {
   "cell_type": "markdown",
   "id": "eb65d29b",
   "metadata": {},
   "source": [
    "**Access Data**"
   ]
  },
  {
   "cell_type": "code",
   "execution_count": null,
   "id": "d3195b87",
   "metadata": {},
   "outputs": [],
   "source": [
    "application_id = \"application-id\"\n",
    "directory_id = \"directory-id\"\n",
    "secret = \"secret\""
   ]
  },
  {
   "cell_type": "code",
   "execution_count": null,
   "id": "61cd90a8",
   "metadata": {},
   "outputs": [],
   "source": [
    "spark.conf.set(\"fs.azure.account.auth.type.storage.dfs.core.windows.net\", \"OAuth\")\n",
    "spark.conf.set(\"fs.azure.account.oauth.provider.type.storage.dfs.core.windows.net\", \"org.apache.hadoop.fs.azurebfs.oauth2.ClientCredsTokenProvider\")\n",
    "spark.conf.set(\"fs.azure.account.oauth2.client.id.storage.dfs.core.windows.net\", f\"{application_id}\")\n",
    "spark.conf.set(\"fs.azure.account.oauth2.client.secret.storage.dfs.core.windows.net\", f\"{secret}\")\n",
    "spark.conf.set(\"fs.azure.account.oauth2.client.endpoint.storage.dfs.core.windows.net\", f\"https://login.microsoftonline.com/{directory_id}/oauth2/token\")\n"
   ]
  },
  {
   "cell_type": "markdown",
   "id": "2407f4f3",
   "metadata": {},
   "source": [
    "**Make Database**"
   ]
  },
  {
   "cell_type": "code",
   "execution_count": null,
   "id": "cb8437fc",
   "metadata": {
    "vscode": {
     "languageId": "sql"
    }
   },
   "outputs": [],
   "source": [
    "-- %sql\n",
    "DROP DATABASE IF EXISTS gold_db;\n",
    "CREATE DATABASE gold_db;"
   ]
  },
  {
   "cell_type": "markdown",
   "id": "50de1037",
   "metadata": {},
   "source": [
    "# Read/Write Data; Make Delta Tables"
   ]
  },
  {
   "cell_type": "markdown",
   "id": "8fb17354",
   "metadata": {},
   "source": [
    "**Import + store folder paths**"
   ]
  },
  {
   "cell_type": "code",
   "execution_count": null,
   "id": "a5199418",
   "metadata": {},
   "outputs": [],
   "source": [
    "from pyspark.sql.functions import *\n",
    "silver_path = \"abfss://silver@storage.dfs.core.windows.net\"\n",
    "gold_path = \"abfss://gold@storage.dfs.core.windows.net\""
   ]
  },
  {
   "cell_type": "markdown",
   "id": "a2edaa70",
   "metadata": {},
   "source": [
    "**Zone Type**"
   ]
  },
  {
   "cell_type": "code",
   "execution_count": null,
   "id": "29a93127",
   "metadata": {},
   "outputs": [],
   "source": [
    "trip_zone_df = spark.read.format(\"parquet\").option(\"inferSchema\", True).option(\"header\", True)\\\n",
    "    .load(f\"{silver_path}/trip_zone\")\n",
    "trip_zone_df.display()\n",
    "trip_zone_df.write.format(\"delta\").mode(\"append\").option(\"path\", f\"{gold_path}/trip_zone\")\\\n",
    "    .saveAsTable(\"gold_db.trip_zone\")"
   ]
  },
  {
   "cell_type": "markdown",
   "id": "cc51acf7",
   "metadata": {},
   "source": [
    "**Trip Type**"
   ]
  },
  {
   "cell_type": "code",
   "execution_count": null,
   "id": "3f4cb870",
   "metadata": {},
   "outputs": [],
   "source": [
    "trip_type_df = spark.read.format(\"parquet\").option(\"inferSchema\", True).option(\"header\", True)\\\n",
    "    .load(f\"{silver_path}/trip_type\")\n",
    "trip_zone_df.display()\n",
    "trip_type_df.write.format(\"delta\").mode(\"overwrite\").option(\"path\", f\"{gold_path}/trip_type\")\\\n",
    "    .saveAsTable(\"gold_db.trip_type\")"
   ]
  },
  {
   "cell_type": "markdown",
   "id": "3f0173ce",
   "metadata": {},
   "source": [
    "**Trip Data**"
   ]
  },
  {
   "cell_type": "code",
   "execution_count": null,
   "id": "e886273f",
   "metadata": {},
   "outputs": [],
   "source": [
    "trip_df = spark.read.format(\"parquet\").option(\"inferSchema\", True).option(\"header\", True)\\\n",
    "    .load(f\"{silver_path}/trips\")\n",
    "trip_df.display()\n",
    "trip_df.write.format(\"delta\").mode(\"overwrite\").option(\"path\", f\"{gold_path}/trips\").saveAsTable(\"gold_db.trips\")"
   ]
  },
  {
   "cell_type": "markdown",
   "id": "43724fc9",
   "metadata": {},
   "source": [
    "**Run commands to test on database, then restore back to original**"
   ]
  },
  {
   "cell_type": "markdown",
   "id": "1b6442b0",
   "metadata": {},
   "source": [
    "Change Borough column where Location ID is 1"
   ]
  },
  {
   "cell_type": "code",
   "execution_count": null,
   "id": "6febf45e",
   "metadata": {
    "vscode": {
     "languageId": "sql"
    }
   },
   "outputs": [],
   "source": [
    "-- %sql\n",
    "UPDATE gold_db.trip_zone SET Borough = \"EMR\" WHERE LocationID = 1;\n",
    "SELECT * FROM gold_db.trip_zone;"
   ]
  },
  {
   "cell_type": "markdown",
   "id": "93e746b9",
   "metadata": {},
   "source": [
    "Delete row where LocationID is 1 and show that selecting it returns nothing"
   ]
  },
  {
   "cell_type": "code",
   "execution_count": null,
   "id": "6d1cf3d3",
   "metadata": {
    "vscode": {
     "languageId": "sql"
    }
   },
   "outputs": [],
   "source": [
    "-- %sql\n",
    "DELETE FROM gold_db.trip_zone WHERE LocationID = 1;\n",
    "SELECT * FROM gold_db.trip_zone WHERE LocationID = 1;"
   ]
  },
  {
   "cell_type": "markdown",
   "id": "835b35e3",
   "metadata": {},
   "source": [
    "Reset database back to original copy"
   ]
  },
  {
   "cell_type": "code",
   "execution_count": null,
   "id": "be6e7e89",
   "metadata": {
    "vscode": {
     "languageId": "sql"
    }
   },
   "outputs": [],
   "source": [
    "\n",
    "-- %sql\n",
    "RESTORE gold_db.trip_zone TO VERSION AS OF 0;"
   ]
  },
  {
   "cell_type": "markdown",
   "id": "281aaa4a",
   "metadata": {},
   "source": [
    "# Delta Tables"
   ]
  },
  {
   "cell_type": "code",
   "execution_count": null,
   "id": "43e9b079",
   "metadata": {
    "vscode": {
     "languageId": "sql"
    }
   },
   "outputs": [],
   "source": [
    "-- %sql\n",
    "SELECT * FROM gold_db.trip_type"
   ]
  },
  {
   "cell_type": "code",
   "execution_count": null,
   "id": "598a55af",
   "metadata": {
    "vscode": {
     "languageId": "sql"
    }
   },
   "outputs": [],
   "source": [
    "-- %sql\n",
    "SELECT * FROM gold_db.trip_zone"
   ]
  },
  {
   "cell_type": "code",
   "execution_count": null,
   "id": "508e50a0",
   "metadata": {
    "vscode": {
     "languageId": "sql"
    }
   },
   "outputs": [],
   "source": [
    "-- %sql\n",
    "SELECT * FROM gold_db.trips"
   ]
  }
 ],
 "metadata": {
  "kernelspec": {
   "display_name": ".venv",
   "language": "python",
   "name": "python3"
  },
  "language_info": {
   "name": "python",
   "version": "3.11.9"
  }
 },
 "nbformat": 4,
 "nbformat_minor": 5
}
