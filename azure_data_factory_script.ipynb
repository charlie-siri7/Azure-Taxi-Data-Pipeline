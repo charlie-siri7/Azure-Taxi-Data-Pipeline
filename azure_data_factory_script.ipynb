{
 "cells": [
  {
   "cell_type": "markdown",
   "id": "8d7f6e7a",
   "metadata": {},
   "source": [
    "**Code to pull data from website while accounting for 0s before month num (ex: \"09\" vs \"10\")**"
   ]
  },
  {
   "cell_type": "code",
   "execution_count": null,
   "id": "071f93e9",
   "metadata": {},
   "outputs": [],
   "source": [
    "@concat(\n",
    "  'trip-data/green_tripdata_2024-',\n",
    "  if(\n",
    "    less(int(dataset().month), 10),\n",
    "    concat('0', string(dataset().month)),\n",
    "    string(dataset().month)\n",
    "  ),\n",
    "  '.parquet'\n",
    ")"
   ]
  }
 ],
 "metadata": {
  "language_info": {
   "name": "python"
  }
 },
 "nbformat": 4,
 "nbformat_minor": 5
}
