{
 "cells": [
  {
   "cell_type": "markdown",
   "id": "673346d9",
   "metadata": {},
   "source": [
    "**Store IDs, keys, pathes**"
   ]
  },
  {
   "cell_type": "code",
   "execution_count": null,
   "id": "dff68b53",
   "metadata": {},
   "outputs": [],
   "source": [
    "application_id = \"application-id\"\n",
    "directory_id = \"directory-id\"\n",
    "secret = \"secret\"\n",
    "bronze_path = \"abfss://bronze@storage.dfs.core.windows.net\"\n",
    "silver_path = \"abfss://silver@storage.dfs.core.windows.net\""
   ]
  },
  {
   "cell_type": "markdown",
   "id": "92ac5547",
   "metadata": {},
   "source": [
    "**Configuration**"
   ]
  },
  {
   "cell_type": "code",
   "execution_count": null,
   "id": "46498df4",
   "metadata": {},
   "outputs": [],
   "source": [
    "spark.conf.set(\"fs.azure.account.auth.type.storage.dfs.core.windows.net\", \"OAuth\")\n",
    "spark.conf.set(\"fs.azure.account.oauth.provider.type.storage.dfs.core.windows.net\", \"org.apache.hadoop.fs.azurebfs.oauth2.ClientCredsTokenProvider\")\n",
    "spark.conf.set(\"fs.azure.account.oauth2.client.id.storage.dfs.core.windows.net\", f\"{application_id}\")\n",
    "spark.conf.set(\"fs.azure.account.oauth2.client.secret.storage.dfs.core.windows.net\", f\"{secret}\")\n",
    "spark.conf.set(\"fs.azure.account.oauth2.client.endpoint.storage.dfs.core.windows.net\", f\"https://login.microsoftonline.com/{directory_id}\")"
   ]
  },
  {
   "cell_type": "markdown",
   "id": "229079c2",
   "metadata": {},
   "source": [
    "**Set Directory**"
   ]
  },
  {
   "cell_type": "code",
   "execution_count": null,
   "id": "04db9747",
   "metadata": {},
   "outputs": [],
   "source": [
    "dbutils.fs.ls(bronze_path)"
   ]
  },
  {
   "cell_type": "markdown",
   "id": "b1deb309",
   "metadata": {},
   "source": [
    "# Read Data"
   ]
  },
  {
   "cell_type": "markdown",
   "id": "4c8e4213",
   "metadata": {},
   "source": [
    "**Trip Type**"
   ]
  },
  {
   "cell_type": "code",
   "execution_count": null,
   "id": "74da9708",
   "metadata": {},
   "outputs": [],
   "source": [
    "trip_type_df = spark.read.format(\"csv\")\\\n",
    ".option(\"inferSchema\", True).option(\"header\", True)\\\n",
    ".load(f\"{bronze_path}/trip_type\")\n",
    "trip_type_df.display()"
   ]
  },
  {
   "cell_type": "markdown",
   "id": "f3711866",
   "metadata": {},
   "source": [
    "**Trip Zone**"
   ]
  },
  {
   "cell_type": "code",
   "execution_count": null,
   "id": "814b7f86",
   "metadata": {},
   "outputs": [],
   "source": [
    "trip_zone_df = spark.read.format(\"csv\")\\\n",
    ".option(\"inferSchema\", True).option(\"header\", True)\\\n",
    ".load(f\"{bronze_path}/trip_zone\")\n",
    "trip_zone_df.display()"
   ]
  },
  {
   "cell_type": "markdown",
   "id": "3295cdb6",
   "metadata": {},
   "source": [
    "**Trip Date**"
   ]
  },
  {
   "cell_type": "code",
   "execution_count": null,
   "id": "34ce7bf0",
   "metadata": {},
   "outputs": [],
   "source": [
    "my_schema = StructType([\n",
    "    StructField(\"VendorID\", LongType(), True),\n",
    "    StructField(\"lpep_pickup_datetime\", TimestampType(), True),\n",
    "    StructField(\"lpep_dropoff_datetime\", TimestampType(), True),\n",
    "    StructField(\"store_and_fwd_flag\", StringType(), True),\n",
    "    StructField(\"RatecodeID\", LongType(), True),\n",
    "    StructField(\"PULocationID\", LongType(), True),\n",
    "    StructField(\"DOLocationID\", LongType(), True),\n",
    "    StructField(\"passenger_count\", LongType(), True),\n",
    "    StructField(\"trip_distance\", DoubleType(), True),\n",
    "    StructField(\"fare_amount\", DoubleType(), True),\n",
    "    StructField(\"extra\", DoubleType(), True),\n",
    "    StructField(\"mta_tax\", DoubleType(), True),\n",
    "    StructField(\"tip_amount\", DoubleType(), True),\n",
    "    StructField(\"tolls_amount\", DoubleType(), True),\n",
    "    StructField(\"ehail_fee\", DoubleType(), True),\n",
    "    StructField(\"improvement_surcharge\", DoubleType(), True),\n",
    "    StructField(\"total_amount\", DoubleType(), True),\n",
    "    StructField(\"payment_type\", LongType(), True),\n",
    "    StructField(\"trip_type\", LongType(), True),\n",
    "    StructField(\"congestion_surcharge\", DoubleType(), True),\n",
    "])\n",
    "\n",
    "trip_df = spark.read.format(\"parquet\").schema(my_schema).option(\"header\", True).option(\"recursiveFileLookup\", True)\\\n",
    "    .load(f\"{bronze_path}/trips_data\")\n",
    "trip_df.display()"
   ]
  },
  {
   "cell_type": "markdown",
   "id": "d614f8ff",
   "metadata": {},
   "source": [
    "# Transforming Data"
   ]
  },
  {
   "cell_type": "markdown",
   "id": "907b4f07",
   "metadata": {},
   "source": [
    "**Trip Type**"
   ]
  },
  {
   "cell_type": "code",
   "execution_count": null,
   "id": "2e7c3abe",
   "metadata": {},
   "outputs": [],
   "source": [
    "trip_type_df = trip_type_df\\\n",
    "    .withColumnRenamed(\"description\", \"trip_description\")\n",
    "trip_type_df.write.format(\"parquet\").mode(\"append\")\\\n",
    "    .option(\"path\", f\"{silver_path}/trip_type\").save()\n",
    "trip_type_df.display()"
   ]
  },
  {
   "cell_type": "markdown",
   "id": "f71a772f",
   "metadata": {},
   "source": [
    "**Trip Zone**"
   ]
  },
  {
   "cell_type": "code",
   "execution_count": null,
   "id": "17590ae5",
   "metadata": {},
   "outputs": [],
   "source": [
    "trip_zone_df = trip_zone_df\\\n",
    "    .withColumn(\"Zone_1\", split(col(\"Zone\"), \"/\")[0])\\\n",
    "    .withColumn(\"Zone_2\", split(col(\"Zone\"), \"/\")[1])\n",
    "trip_zone_df.write.format(\"parquet\").mode(\"append\")\\\n",
    "    .option(\"path\", f\"{silver_path}/trip_zone\").save()\n",
    "trip_zone_df.display()"
   ]
  },
  {
   "cell_type": "markdown",
   "id": "18b32831",
   "metadata": {},
   "source": [
    "**Trip Data**"
   ]
  },
  {
   "cell_type": "code",
   "execution_count": null,
   "id": "27bd588f",
   "metadata": {},
   "outputs": [],
   "source": [
    "trip_df = trip_df\\\n",
    "    .withColumn(\"trip_date\", to_date(\"lpep_pickup_datetime\"))\\\n",
    "    .withColumn(\"trip_year\", year(\"lpep_pickup_datetime\"))\\\n",
    "    .withColumn(\"trip_month\", month(\"lpep_pickup_datetime\"))\n",
    "trip_df = trip_df\\\n",
    "    .select(\"VendorID\", \"PULocationID\", \"DOLocationID\", \"trip_distance\", \"fare_amount\", \"total_amount\")\n",
    "trip_df.display()"
   ]
  },
  {
   "cell_type": "markdown",
   "id": "3571c091",
   "metadata": {},
   "source": [
    "**Trip Data Analysis**"
   ]
  },
  {
   "cell_type": "code",
   "execution_count": null,
   "id": "eb9f3a1d",
   "metadata": {},
   "outputs": [],
   "source": [
    "trip_df.write.format(\"parquet\").mode(\"append\").option(\"path\", f\"{silver_path}/trips\").save()\n",
    "display(trip_df)"
   ]
  }
 ],
 "metadata": {
  "kernelspec": {
   "display_name": ".venv",
   "language": "python",
   "name": "python3"
  },
  "language_info": {
   "name": "python",
   "version": "3.11.9"
  }
 },
 "nbformat": 4,
 "nbformat_minor": 5
}
